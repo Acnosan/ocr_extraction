{
 "cells": [
  {
   "cell_type": "code",
   "execution_count": null,
   "id": "825c1da6",
   "metadata": {},
   "outputs": [],
   "source": [
    "from PIL import Image\n",
    "import os\n",
    "import cv2 \n",
    "from pdf2image import convert_from_path\n",
    "import numpy as np\n",
    "import matplotlib.pyplot as plt\n",
    "from scipy.ndimage import median_filter\n",
    "from tqdm import tqdm\n",
    "import pytesseract\n",
    "import re\n",
    "import csv\n",
    "import concurrent.futures as CONC\n",
    "from threading import Lock"
   ]
  },
  {
   "cell_type": "code",
   "execution_count": null,
   "id": "4b34f27a",
   "metadata": {},
   "outputs": [],
   "source": [
    "os.chdir('/projects/ocr_extraction_from_images')"
   ]
  },
  {
   "cell_type": "code",
   "execution_count": null,
   "id": "d2018188",
   "metadata": {},
   "outputs": [],
   "source": [
    "# ------------- 1. Chargement des documents -------------\n",
    "def is_valide(image_path):\n",
    "    try:\n",
    "        with Image.open(image_path) as img:\n",
    "            img.verify()\n",
    "        return True\n",
    "    except:\n",
    "        return False\n",
    "\n",
    "def images_checking(data_path,images_extensions,pdf_extensions):\n",
    "    valide_images = []\n",
    "    for file_name in os.listdir(data_path):\n",
    "        image_path = os.path.join(data_path,file_name)\n",
    "        if is_valide(image_path):\n",
    "            if os.path.splitext(file_name)[1].lower() in pdf_extensions:\n",
    "                image_path_pdf = convert_from_path(Image.open(image_path))\n",
    "                valide_images.append(image_path_pdf)\n",
    "            elif os.path.splitext(file_name)[1].lower() in images_extensions:\n",
    "                valide_images.append(image_path)\n",
    "            else:\n",
    "                print(f'Image {image_path}, have invalid extension')\n",
    "    return valide_images\n"
   ]
  },
  {
   "cell_type": "code",
   "execution_count": null,
   "id": "af223471",
   "metadata": {},
   "outputs": [],
   "source": [
    "# ------------- 2. Prétraitement d’image -------------\n",
    "def binarizing(image_path):\n",
    "    numerical_image = cv2.imread(image_path)\n",
    "    gray_img = cv2.cvtColor(numerical_image,cv2.COLOR_BGR2GRAY) ## Transforming to Gray Scale\n",
    "    _,binarized = cv2.threshold(gray_img,200,255,cv2.THRESH_BINARY) ## Binarizing the image each pixel value as either black or white)\n",
    "    return binarized\n",
    "\n",
    "def parallel_binarizing(valide_images):\n",
    "    with tqdm(total=len(valide_images), desc=\"Binarizing ...\", ncols=120) as pbar:\n",
    "        def process_one(image_path):\n",
    "            result = binarizing(image_path)\n",
    "            pbar.update(1)\n",
    "            return result\n",
    "        with CONC.ThreadPoolExecutor(max_workers=4) as executor:\n",
    "            binarized_images = list(executor.map(process_one, valide_images))\n",
    "    print(f'We got {len(binarized_images)} Binarized images.')\n",
    "    return binarized_images"
   ]
  },
  {
   "cell_type": "code",
   "execution_count": null,
   "id": "a259e7d8",
   "metadata": {},
   "outputs": [],
   "source": [
    "def parallel_denoising(binarized_images):\n",
    "    with tqdm(total=len(binarized_images), desc=\"Denoising ....\",colour='red', ncols=120) as pbar:\n",
    "        def process_one(image_path):\n",
    "            result = median_filter(np.array(image_path),3)  ## Median Value of a neighboring pixels to smoothen the pixels\n",
    "            pbar.update(1)\n",
    "            return result\n",
    "        with CONC.ThreadPoolExecutor(max_workers=4) as executor:\n",
    "            denoised_images = list(executor.map(process_one, binarized_images))\n",
    "    print(f'We got {len(denoised_images)} Denoised images.')\n",
    "    return denoised_images"
   ]
  },
  {
   "cell_type": "code",
   "execution_count": null,
   "id": "ec9d754e",
   "metadata": {},
   "outputs": [],
   "source": [
    "def save_processed_images(processed_images_folder,images):\n",
    "    for idx,img in enumerate(images):\n",
    "        img_path = f'img_{idx}.jpg'\n",
    "        cv2.imwrite(os.path.join(processed_images_folder,img_path),img) ## saving processed images to use them later on in ocr"
   ]
  },
  {
   "cell_type": "code",
   "execution_count": null,
   "id": "1b198075",
   "metadata": {},
   "outputs": [],
   "source": [
    "def ocr_extraction(image):\n",
    "    img = Image.open(image) ## open the image\n",
    "    text = pytesseract.image_to_string(img, lang='eng') ## send it to the ocr api\n",
    "    text = text.replace('\\u2003', ' ').replace('\\t', ' ') ## removing unessessary spaces etc\n",
    "    if not text:\n",
    "        print(f'Problem With Ocr Extraction for image {image}')\n",
    "        return None\n",
    "    lines = [l.strip() for l in text.split('\\n') if l.strip()] ## splitting the spaces and storing data into an array\n",
    "    # search bill and date\n",
    "    bill = re.search(r\"Invoice\\s+no[:\\s]*([0-9\\-]+)\", text, re.IGNORECASE)\n",
    "    bill = bill.group(1) if bill else None\n",
    "    \n",
    "    date_match = re.search(r\"\\b\\d{2}/\\d{2}/\\d{4}\\b\", text)\n",
    "    date = date_match.group(0) if date_match else None\n",
    "\n",
    "    # Recherche les details\n",
    "    tva_perc, net_worth, client = None, None, None\n",
    "    for i, line in enumerate(lines):\n",
    "        if \"VAT [%]\" in line and i + 1 < len(lines): ## if VAT percentage is in our string \n",
    "            match = re.search(r\"(\\d{1,2}%)\", lines[i + 1]) ## search for any number length 2 + ends with %\n",
    "            if match:\n",
    "                tva_perc = match.group(1)\n",
    "                break\n",
    "    for i, line in enumerate(lines):   \n",
    "        if \"Client:\" in line and i + 1 < len(lines): ## search for client name\n",
    "            client = lines[i + 1].strip().strip('\"\\'')\n",
    "\n",
    "    for i,line in enumerate(lines):\n",
    "        if \"Net worth\" in line and i + 1 < len(lines):\n",
    "            match = re.search(r\"([$ ]?[0-9]{1,3}(?: [0-9]{3})*[,\\.][0-9]{2})\", lines[i + 1])\n",
    "            ## search for any starting with $ OR space OR nothing THEN\n",
    "            ## search for number  number,number (like 2 150,15) OR number,number (like 150,15)\n",
    "            if match :\n",
    "                net_worth = match.group(1)\n",
    "    main_data = {\n",
    "        \"numero_facture\": bill,\n",
    "        \"date\": date,\n",
    "        \"client\": client,\n",
    "        \"tva_perc\": None,\n",
    "        \"valeur_nette\": None,\n",
    "        \"tva\": None,\n",
    "        \"valeur_brute\": None\n",
    "    }\n",
    "    \n",
    "    if tva_perc is not None and net_worth is not None:\n",
    "        tva_perc = float(tva_perc.replace('%','').replace(' ','').replace(',', '.'))  ## casting to float\n",
    "        net_worth = float(net_worth.replace('$','').replace(' ','').replace(',', '.')) ## casting to float\n",
    "        tva_val = tva_perc/100 * net_worth ## tva value = tva/100 * net_worth\n",
    "        gross_worth = net_worth + tva_val ## gross worth value = tva value + net worth\n",
    "        main_data.update({\n",
    "            \"tva_perc\": tva_perc,\n",
    "            \"valeur_nette\": net_worth,\n",
    "            \"tva\": round(tva_val,2),\n",
    "            \"valeur_brute\": round(gross_worth,2)\n",
    "        })\n",
    "    return main_data"
   ]
  },
  {
   "cell_type": "code",
   "execution_count": null,
   "id": "fb9414f6",
   "metadata": {},
   "outputs": [],
   "source": [
    "def parallel_ocr(valide_images):\n",
    "    with tqdm(total=len(valide_images), desc=\"Ocr Extraction ...\", ncols=120, colour='yellow') as pbar:\n",
    "        lock = Lock()\n",
    "        def process_one(image_path):\n",
    "            result = ocr_extraction(image_path)\n",
    "            with lock:\n",
    "                pbar.update(1)\n",
    "            return result\n",
    "        with CONC.ThreadPoolExecutor(max_workers=2) as executor:\n",
    "            results = list(executor.map(process_one, valide_images))\n",
    "    return results"
   ]
  },
  {
   "cell_type": "code",
   "execution_count": null,
   "id": "04caabff",
   "metadata": {},
   "outputs": [],
   "source": [
    "# ------------- MAIN -------------\n",
    "data_path = 'batch_1'\n",
    "images_extensions = ['.png','.jpg','.tiff']\n",
    "pdf_extensions = ['.pdf']\n",
    "processed_images_folder = 'processed/'\n",
    "\n",
    "valide_images = images_checking(data_path,images_extensions,pdf_extensions)\n",
    "print(f'We Have {len(valide_images)} Images in our {data_path} folder')"
   ]
  },
  {
   "cell_type": "code",
   "execution_count": null,
   "id": "67eb36d7",
   "metadata": {},
   "outputs": [],
   "source": [
    "binarized_images = parallel_binarizing(valide_images)"
   ]
  },
  {
   "cell_type": "code",
   "execution_count": null,
   "id": "b28a59e9",
   "metadata": {},
   "outputs": [],
   "source": [
    "denoised_images = parallel_denoising(binarized_images)"
   ]
  },
  {
   "cell_type": "code",
   "execution_count": null,
   "id": "e64279f4",
   "metadata": {},
   "outputs": [],
   "source": [
    "save_processed_images(processed_images_folder,denoised_images)"
   ]
  },
  {
   "cell_type": "code",
   "execution_count": null,
   "id": "3a76dd48",
   "metadata": {},
   "outputs": [],
   "source": [
    "valide_images = images_checking(processed_images_folder,images_extensions,pdf_extensions)"
   ]
  },
  {
   "cell_type": "code",
   "execution_count": 358,
   "id": "950224b3",
   "metadata": {},
   "outputs": [
    {
     "name": "stderr",
     "output_type": "stream",
     "text": [
      "Ocr Extraction ...: 100%|\u001b[33m███████████████████████████████████████████████████████████\u001b[0m| 1489/1489 [12:08<00:00,  2.04it/s]\u001b[0m\n"
     ]
    }
   ],
   "source": [
    "results = parallel_ocr(valide_images)"
   ]
  },
  {
   "cell_type": "code",
   "execution_count": 361,
   "id": "7c5d238c",
   "metadata": {},
   "outputs": [],
   "source": [
    "with open('ocr_output.csv', mode='w', newline='', encoding='utf-8') as file:\n",
    "    writer = csv.DictWriter(file, fieldnames=results[0].keys())\n",
    "    writer.writeheader()\n",
    "    writer.writerows(results)"
   ]
  }
 ],
 "metadata": {
  "kernelspec": {
   "display_name": "Python 3 (ipykernel)",
   "language": "python",
   "name": "python3"
  },
  "language_info": {
   "codemirror_mode": {
    "name": "ipython",
    "version": 3
   },
   "file_extension": ".py",
   "mimetype": "text/x-python",
   "name": "python",
   "nbconvert_exporter": "python",
   "pygments_lexer": "ipython3",
   "version": "3.11.0rc1"
  }
 },
 "nbformat": 4,
 "nbformat_minor": 5
}
